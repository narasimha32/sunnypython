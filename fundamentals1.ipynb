{
 "cells": [
  {
   "cell_type": "code",
   "execution_count": 1,
   "metadata": {},
   "outputs": [
    {
     "name": "stdout",
     "output_type": "stream",
     "text": [
      "enter value of a: 5\n",
      "enter value of b: 6\n",
      "the sum of two numbers is : 11\n"
     ]
    }
   ],
   "source": [
    "a = input('enter value of a: ')\n",
    "b = input('enter value of b: ')\n",
    "c = int(a)+int(b)\n",
    "print('the sum of two numbers is :',c)"
   ]
  },
  {
   "cell_type": "code",
   "execution_count": 1,
   "metadata": {},
   "outputs": [
    {
     "name": "stdout",
     "output_type": "stream",
     "text": [
      "this is to caliculate the simple intrest of the given amount\n",
      "enter the principle amount : 100\n",
      "enter the time in years : 1\n",
      "enter the rate of intrest : 1\n",
      "the simple intrest for the amount 100.0 for the time 1.0 years and the intrest 1.0 is : 1.0\n"
     ]
    }
   ],
   "source": [
    "# This program calculates the simple intrest for the given amount, time, and intrest rate\n",
    "print('this is to caliculate the simple intrest of the given amount')\n",
    "P = float(input('enter the principle amount : '))\n",
    "T = float(input('enter the time in years : '))\n",
    "R = float(input('enter the rate of intrest : '))\n",
    "SI = (P*T*R)/100\n",
    "print('the simple intrest for the amount {0} for the time {1} years and the intrest {2} is :'.format(P, T, R), SI)"
   ]
  },
  {
   "cell_type": "raw",
   "metadata": {},
   "source": []
  },
  {
   "cell_type": "code",
   "execution_count": 16,
   "metadata": {},
   "outputs": [
    {
     "name": "stdout",
     "output_type": "stream",
     "text": [
      "this is to calculate the area of the rectangle\n",
      "enter the length of the rectangle: 5\n",
      "enter the bredth of the rectangle: 4\n",
      "the area of the rectangle is  20.0\n"
     ]
    }
   ],
   "source": [
    "print('this is to calculate the area of the rectangle')\n",
    "L = float(input('enter the length of the rectangle: '))\n",
    "B = float(input('enter the bredth of the rectangle: '))\n",
    "P =L*B\n",
    "print('the area of the rectangle is ',P)"
   ]
  },
  {
   "cell_type": "code",
   "execution_count": 14,
   "metadata": {},
   "outputs": [
    {
     "name": "stdout",
     "output_type": "stream",
     "text": [
      "enter the value for the radius4\n",
      "Area of circle is :  50.26548245743669\n"
     ]
    }
   ],
   "source": [
    "#this calculates the area of the circle\n",
    "import math\n",
    "R = int(input('enter the value for the radius'))\n",
    "A = math.pi *R*R\n",
    "print('Area of circle is : ', A)\n"
   ]
  },
  {
   "cell_type": "code",
   "execution_count": 2,
   "metadata": {},
   "outputs": [
    {
     "name": "stdout",
     "output_type": "stream",
     "text": [
      "enter the length of side a: 18\n",
      "enter the length of side b: 24\n",
      "enter the length of side c: 30\n",
      "the value of half perimeter is : 36.0\n",
      "The area of the triangle with sides 18,24,30 is : 216.0\n"
     ]
    }
   ],
   "source": [
    "#this program is to calculate the area of the triangle with 3 sides given\n",
    "A = int(input('enter the length of side a: '))\n",
    "B = int(input('enter the length of side b: '))\n",
    "C = int(input('enter the length of side c: '))\n",
    "#to find the half perimeter\n",
    "P = float((A+B+C)/2)\n",
    "\n",
    "print('the value of half perimeter is :', P)\n",
    "\n",
    "#Area of the triangle\n",
    "\n",
    "import math\n",
    "\n",
    "Area = math.sqrt(P*(P-A)*(P-B)*(P-C)) \n",
    "\n",
    "print('The area of the triangle with sides {0},{1},{2} is :'.format(A, B, C), Area)\n"
   ]
  },
  {
   "cell_type": "code",
   "execution_count": null,
   "metadata": {},
   "outputs": [],
   "source": [
    "# this program is to calculate the BMI for given weight in kgs and height in mtrs\n",
    "W = int(input('enter the weight in KG: '))\n",
    "H = float(input('enter the height in feet: '))\n",
    "#convert feet into mtrs\n",
    "HM = float(0.3048*H)\n",
    "#caliculating BMI\n",
    "BMI = float(W/(HM**2))\n",
    "print('your bmi is : ',BMI)"
   ]
  },
  {
   "cell_type": "code",
   "execution_count": 4,
   "metadata": {},
   "outputs": [
    {
     "name": "stdout",
     "output_type": "stream",
     "text": [
      "48.0\n"
     ]
    }
   ],
   "source": [
    "import math\n",
    "print(math.sqrt(36*(4)*(4)*(4)))\n"
   ]
  },
  {
   "cell_type": "code",
   "execution_count": null,
   "metadata": {},
   "outputs": [],
   "source": []
  }
 ],
 "metadata": {
  "kernelspec": {
   "display_name": "Python 3",
   "language": "python",
   "name": "python3"
  },
  "language_info": {
   "codemirror_mode": {
    "name": "ipython",
    "version": 3
   },
   "file_extension": ".py",
   "mimetype": "text/x-python",
   "name": "python",
   "nbconvert_exporter": "python",
   "pygments_lexer": "ipython3",
   "version": "3.6.5"
  }
 },
 "nbformat": 4,
 "nbformat_minor": 2
}
