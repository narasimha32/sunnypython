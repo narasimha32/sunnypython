{
 "cells": [
  {
   "cell_type": "code",
   "execution_count": 4,
   "metadata": {},
   "outputs": [
    {
     "name": "stdout",
     "output_type": "stream",
     "text": [
      "enter the number :45\n",
      "The number 45 is ODD number\n"
     ]
    }
   ],
   "source": [
    "# program to calculate the given number even or odd\n",
    "\n",
    "a = int(input('enter the number :'))\n",
    "if a%2 == 0:\n",
    "    print('the number {0} is EVEN number'.format(a))\n",
    "else:\n",
    "    print('The number {0} is ODD number'.format(a))"
   ]
  },
  {
   "cell_type": "code",
   "execution_count": 7,
   "metadata": {},
   "outputs": [
    {
     "name": "stdout",
     "output_type": "stream",
     "text": [
      "enter the number :36\n",
      "The number 5 is NOT a factor of 36 \n"
     ]
    }
   ],
   "source": [
    "#program to calculate the given number has factor as 5\n",
    "a = int(input('enter the number :'))\n",
    "if a%5 == 0:\n",
    "    print('the number {0} is indeed have 5 as factor '.format(a))\n",
    "else:\n",
    "    print('The number 5 is NOT a factor of {0} '.format(a))"
   ]
  },
  {
   "cell_type": "code",
   "execution_count": 15,
   "metadata": {},
   "outputs": [
    {
     "name": "stdout",
     "output_type": "stream",
     "text": [
      "Enter num1 :15\n",
      "Enter num2 :20\n",
      "15 is NOT factor of 20\n"
     ]
    }
   ],
   "source": [
    "# Given 2 numbers num1 and num2 and to calculate which number is factor of which\n",
    "num1 = int(input('Enter num1 :'))\n",
    "num2 = int(input('Enter num2 :'))\n",
    "if num1 >= num2:\n",
    "    if num1%num2 == 0:\n",
    "        print('{0} is factor of {1}'.format(num2,num1))\n",
    "    else:\n",
    "        print('{0} is NOT factor of {1}'.format(num2,num1))\n",
    "else:\n",
    "    if num2%num1 == 0:\n",
    "        print('{0} is factor of {1}'.format(num1,num2))\n",
    "    else:\n",
    "        print('{0} is NOT factor of {1}'.format(num1,num2))\n",
    "        \n",
    "            "
   ]
  },
  {
   "cell_type": "code",
   "execution_count": 43,
   "metadata": {},
   "outputs": [
    {
     "name": "stdout",
     "output_type": "stream",
     "text": [
      "enter the year : 2000\n",
      "LEAP YEAR\n"
     ]
    }
   ],
   "source": [
    "# program to calculate the given year is LEAP year or not\n",
    "a = int(input('enter the year : '))\n",
    "if (a%4 == 0 and a%100 != 0) or a%400 == 0:\n",
    "    print('LEAP YEAR')\n",
    "else:\n",
    "    print('NOT LEAP YEAR')"
   ]
  },
  {
   "cell_type": "code",
   "execution_count": 47,
   "metadata": {},
   "outputs": [
    {
     "name": "stdout",
     "output_type": "stream",
     "text": [
      "Enter the first number : 10\n",
      "Enter the second number : 50\n",
      "Enter the third number : 50\n",
      "50 is the biggest\n"
     ]
    }
   ],
   "source": [
    "#Program to calculate biggest of 3 numbers:\n",
    "a = int(input('Enter the first number : '))\n",
    "b = int(input('Enter the second number : '))\n",
    "c = int(input('Enter the third number : '))\n",
    "if a >= b and a >= c:\n",
    "    print('{0} is the biggest'.format(a))\n",
    "elif b >= a and b >= c:\n",
    "    print('{0} is the biggest'.format(b))\n",
    "else:\n",
    "    print('{0} is biggest'.format(c))\n",
    "    "
   ]
  },
  {
   "cell_type": "code",
   "execution_count": 51,
   "metadata": {},
   "outputs": [
    {
     "name": "stdout",
     "output_type": "stream",
     "text": [
      " Enter any value (1-7) :10\n",
      "Wrong value. Enter 1-7 \n"
     ]
    }
   ],
   "source": [
    "a = int(input(' Enter any value (1-7) :'))\n",
    "if a ==1:\n",
    "    print('Monday')\n",
    "elif a ==2:\n",
    "    print('Tuesday')\n",
    "elif a == 3:\n",
    "    print('Wednesday')\n",
    "elif a == 4:\n",
    "    print('Thursday')\n",
    "elif a == 5:\n",
    "    print('Friday')\n",
    "elif a ==6:\n",
    "    print('Saturday')\n",
    "elif a ==7:\n",
    "    print('Sunday')\n",
    "else:\n",
    "    print('Wrong value. Enter 1-7 ')\n"
   ]
  },
  {
   "cell_type": "code",
   "execution_count": null,
   "metadata": {},
   "outputs": [],
   "source": []
  }
 ],
 "metadata": {
  "kernelspec": {
   "display_name": "Python 3",
   "language": "python",
   "name": "python3"
  },
  "language_info": {
   "codemirror_mode": {
    "name": "ipython",
    "version": 3
   },
   "file_extension": ".py",
   "mimetype": "text/x-python",
   "name": "python",
   "nbconvert_exporter": "python",
   "pygments_lexer": "ipython3",
   "version": "3.6.5"
  }
 },
 "nbformat": 4,
 "nbformat_minor": 2
}
