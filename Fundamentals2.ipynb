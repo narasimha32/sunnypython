{
 "cells": [
  {
   "cell_type": "code",
   "execution_count": 17,
   "metadata": {},
   "outputs": [
    {
     "name": "stdout",
     "output_type": "stream",
     "text": [
      "enter the weight in KG: 77\n",
      "enter the height in feet: 5.9\n",
      "your bmi is :  23.81\n"
     ]
    }
   ],
   "source": [
    "# this program is to calculate the BMI for given weight in kgs and height in mtrs\n",
    "W = int(input('enter the weight in KG: '))\n",
    "H = float(input('enter the height in feet: '))\n",
    "#convert feet into mtrs\n",
    "HM = float(0.3048*H)\n",
    "#caliculating BMI\n",
    "BMI = float(W/(HM**2))\n",
    "print('your bmi is : ', round(BMI,2))"
   ]
  },
  {
   "cell_type": "code",
   "execution_count": 26,
   "metadata": {},
   "outputs": [
    {
     "name": "stdout",
     "output_type": "stream",
     "text": [
      "enter the length of side a: 18\n",
      "enter the length of side b: 30\n",
      "enter the length of side c: 24\n",
      "the value of half perimeter is : 36.0\n",
      "The area of the triangle with sides 18,30,24 is : 216.0\n"
     ]
    }
   ],
   "source": [
    "#this program is to calculate the area of the triangle with 3 sides given\n",
    "A = int(input('enter the length of side a: '))\n",
    "B = int(input('enter the length of side b: '))\n",
    "C = int(input('enter the length of side c: '))\n",
    "#to find the half perimeter\n",
    "P = float((A+B+C)/2)\n",
    "\n",
    "print('the value of half perimeter is :', P)\n",
    "\n",
    "#Area of the triangle\n",
    "\n",
    "import math\n",
    "\n",
    "Area = math.sqrt(P*(P-A)*(P-B)*(P-C)) \n",
    "\n",
    "print('The area of the triangle with sides {0},{1},{2} is :'.format(A, B, C), Area)\n"
   ]
  },
  {
   "cell_type": "code",
   "execution_count": 18,
   "metadata": {},
   "outputs": [
    {
     "name": "stdout",
     "output_type": "stream",
     "text": [
      "enter the number :900\n",
      "number of years :  2\n",
      "number of months : 5\n",
      "number of days : 20\n"
     ]
    }
   ],
   "source": [
    "# this is to convert the given number into years, months and days\n",
    "x = int(input('enter the number :'))\n",
    "years = int(x/365)\n",
    "print('number of years : ', years)\n",
    "d = x%365 \n",
    "months = int((d)/30)\n",
    "print('number of months :', months)\n",
    "days = d%30\n",
    "print('number of days :', days)"
   ]
  },
  {
   "cell_type": "code",
   "execution_count": 31,
   "metadata": {},
   "outputs": [
    {
     "name": "stdout",
     "output_type": "stream",
     "text": [
      "enter the length of side a: 20\n",
      "enter the length of side b: 30\n",
      "enter the length of side c: 40\n",
      "the value of half perimeter is : 45.0\n",
      "The area of the triangle : 290.4737509655563\n"
     ]
    }
   ],
   "source": [
    "#this program is to calculate the area of the triangle with 3 sides given\n",
    "A = int(input('enter the length of side a: '))\n",
    "B = int(input('enter the length of side b: '))\n",
    "C = int(input('enter the length of side c: '))\n",
    "#to find the half perimeter\n",
    "P = float((A+B+C)/2)\n",
    "\n",
    "print('the value of half perimeter is :', P)\n",
    "\n",
    "#Area of the triangle\n",
    "\n",
    "import math\n",
    "\n",
    "Area = float(math.sqrt(P*(P-A)*(P-B)*(P-C)))\n",
    "\n",
    "print('The area of the triangle :', Area)\n"
   ]
  },
  {
   "cell_type": "code",
   "execution_count": 32,
   "metadata": {},
   "outputs": [
    {
     "name": "stdout",
     "output_type": "stream",
     "text": [
      "enter the number :775\n",
      "number of mins :  12\n",
      "number of seconds : 55\n"
     ]
    }
   ],
   "source": [
    "x = int(input('enter the number :'))\n",
    "mins = int(x/60)\n",
    "print('number of mins : ', mins)\n",
    "secs = x%60 \n",
    "print('number of seconds :', secs)\n"
   ]
  },
  {
   "cell_type": "code",
   "execution_count": null,
   "metadata": {},
   "outputs": [],
   "source": []
  }
 ],
 "metadata": {
  "kernelspec": {
   "display_name": "Python 3",
   "language": "python",
   "name": "python3"
  },
  "language_info": {
   "codemirror_mode": {
    "name": "ipython",
    "version": 3
   },
   "file_extension": ".py",
   "mimetype": "text/x-python",
   "name": "python",
   "nbconvert_exporter": "python",
   "pygments_lexer": "ipython3",
   "version": "3.6.5"
  }
 },
 "nbformat": 4,
 "nbformat_minor": 2
}
