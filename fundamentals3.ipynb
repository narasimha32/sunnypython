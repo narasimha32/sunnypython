{
 "cells": [
  {
   "cell_type": "code",
   "execution_count": 1,
   "metadata": {},
   "outputs": [
    {
     "name": "stdout",
     "output_type": "stream",
     "text": [
      "calculate the compound intrest\n",
      "Enter the value of the principle amount : 100000\n",
      "Enter the rate of intrest: 8.5\n",
      "enter the coumpound intrest frequency :1 ,2 , 4, 12 :4\n",
      "enter time in years :14\n",
      "Total Amount is : 324635.41\n"
     ]
    }
   ],
   "source": [
    "#this program calculates the compound intrest\n",
    "print('calculate the compound intrest')\n",
    "P = float(input('Enter the value of the principle amount : '))\n",
    "r = float(input('Enter the rate of intrest: '))\n",
    "R = float(r/100)\n",
    "n = int(input('enter the coumpound intrest frequency :1 ,2 , 4, 12 :'))\n",
    "T = float(input('enter time in years :'))\n",
    "import math\n",
    "A = float(P * math.pow((1 + (R/n)),n*T))        \n",
    "print ('Total Amount is :', round(A,2)) "
   ]
  },
  {
   "cell_type": "code",
   "execution_count": 3,
   "metadata": {},
   "outputs": [
    {
     "name": "stdout",
     "output_type": "stream",
     "text": [
      "Enter 1st number A : 500\n",
      "Enter 2nd number B : 600\n",
      "A =  600\n",
      "B =  500\n"
     ]
    }
   ],
   "source": [
    "# Swapping numbers with out using temp variable\n",
    "A = int(input('Enter 1st number A : '))\n",
    "B = int(input('Enter 2nd number B : '))\n",
    "A = A * B\n",
    "B = A / B\n",
    "A = A / B\n",
    "print('A = ', int(A))\n",
    "print('B = ', int(B))"
   ]
  },
  {
   "cell_type": "code",
   "execution_count": 37,
   "metadata": {},
   "outputs": [
    {
     "name": "stdout",
     "output_type": "stream",
     "text": [
      "Enter weight of the object in KG : 50\n",
      "Enter the speed of the object in meters per sec :10\n",
      "Kinetic Energy of the object with weight 50.0 KG with speed 10.0 m/sec in jouls is : 5000.0\n"
     ]
    }
   ],
   "source": [
    "# E = mc^2\n",
    "\n",
    "m = float(input('Enter weight of the object in KG : '))\n",
    "c = float(input('Enter the speed of the object in meters per sec :'))\n",
    "K = float(m*(c**2))\n",
    "print('Kinetic Energy of the object with weight {0} KG with speed {1} m/sec in jouls is :'.format(m,c), K)"
   ]
  },
  {
   "cell_type": "code",
   "execution_count": 12,
   "metadata": {},
   "outputs": [
    {
     "name": "stdout",
     "output_type": "stream",
     "text": [
      "the temperature in centigrade :30\n",
      "The temperature in Fahrenheit : 86.0\n"
     ]
    }
   ],
   "source": [
    "#temperature convertor from c to f\n",
    "c = int(input('the temperature in centigrade :'))\n",
    "f = float((c*9/5)+32)\n",
    "print('The temperature in Fahrenheit :', f)"
   ]
  },
  {
   "cell_type": "code",
   "execution_count": 38,
   "metadata": {},
   "outputs": [
    {
     "name": "stdout",
     "output_type": "stream",
     "text": [
      "Enter 1 for (C to F) or 2 for (F to C):3\n",
      "You entered wrong value\n"
     ]
    }
   ],
   "source": [
    "x = int(input('Enter 1 for (C to F) or 2 for (F to C):'))\n",
    "\n",
    "if x == 1:\n",
    "    X1 = int(input('enter temperature in centigrade :'))\n",
    "    F = ((X1*9)/5) + 32\n",
    "    print('The temperature in Fahrenheit is :',F)\n",
    "    \n",
    "elif x == 2:\n",
    "    X1 = int(input('enter temperature in Fahrenheit :'))\n",
    "    C = ((5/9)*(X1-32))\n",
    "    print('The temperature in Centigrade is :',C)\n",
    "    \n",
    "else:\n",
    "    print('You entered wrong value')\n"
   ]
  },
  {
   "cell_type": "code",
   "execution_count": 106,
   "metadata": {},
   "outputs": [
    {
     "name": "stdout",
     "output_type": "stream",
     "text": [
      "what is the value of 2+8: 5\n",
      "sorry, try again\n"
     ]
    }
   ],
   "source": [
    "import random as r\n",
    "a = r.randint(1,10)\n",
    "b = r.randint(1,10)\n",
    "c = int(input('what is the value of '+ str(a)+'+'+str(b)+': '))\n",
    "if c == a+b:\n",
    "    print('congratulations .. you won')\n",
    "else:\n",
    "    print('sorry, try again')"
   ]
  },
  {
   "cell_type": "code",
   "execution_count": 110,
   "metadata": {},
   "outputs": [
    {
     "name": "stdout",
     "output_type": "stream",
     "text": [
      "Dice Rolled...guess your number from 1 to 6 :4\n",
      "number on the dice is : 2\n",
      "sorry ..you lost\n"
     ]
    }
   ],
   "source": [
    "import random as r\n",
    "a = r.randint(1,6)\n",
    "b = int(input('Dice Rolled...guess your number from 1 to 6 :'))\n",
    "if a == b:\n",
    "        print('jackpot ..you won')\n",
    "else:\n",
    "    print('number on the dice is :',a)\n",
    "    print('sorry ..you lost')\n",
    "\n"
   ]
  },
  {
   "cell_type": "code",
   "execution_count": 65,
   "metadata": {},
   "outputs": [
    {
     "name": "stdout",
     "output_type": "stream",
     "text": [
      "coin tossed..heads(h) or tails(t) : h\n",
      "Sorry you lost the toss its : t\n"
     ]
    }
   ],
   "source": [
    "import random as r\n",
    "a = ['h','t']\n",
    "A = r.choice(a)\n",
    "    \n",
    "B = input('coin tossed..heads(h) or tails(t) : ')\n",
    "if B == A:\n",
    "    print('congrats you won the toss its :', A)\n",
    "else:    \n",
    "    print('Sorry you lost the toss its :', A)"
   ]
  },
  {
   "cell_type": "code",
   "execution_count": 47,
   "metadata": {},
   "outputs": [
    {
     "name": "stdout",
     "output_type": "stream",
     "text": [
      "b\n"
     ]
    }
   ],
   "source": [
    "import random\n",
    "\n",
    "x = ['a', 'b', 'c', 'd', 'e']\n",
    "print(random.choice(x))"
   ]
  },
  {
   "cell_type": "code",
   "execution_count": 60,
   "metadata": {},
   "outputs": [
    {
     "name": "stdout",
     "output_type": "stream",
     "text": [
      "t\n"
     ]
    }
   ],
   "source": [
    "import random as r\n",
    "a = ['t','h']\n",
    "A = r.choice(a)\n",
    "print(A)"
   ]
  },
  {
   "cell_type": "code",
   "execution_count": 90,
   "metadata": {},
   "outputs": [
    {
     "name": "stdout",
     "output_type": "stream",
     "text": [
      "coin tossed..heads(h) or tails(t) : h\n",
      "Sorry you lost the toss its : TAILS\n"
     ]
    }
   ],
   "source": [
    "import random as r\n",
    "a = ['h','t']\n",
    "A = r.choice(a)\n",
    "\n",
    "if A == 'h':\n",
    "    x = 'HEADS'\n",
    "else:\n",
    "    x = 'TAILS'\n",
    "    \n",
    "B = input('coin tossed..heads(h) or tails(t) : ')\n",
    "if B == A:\n",
    "    print('congrats you won the toss its :', x)\n",
    "else:    \n",
    "    print('Sorry you lost the toss its :', x)"
   ]
  },
  {
   "cell_type": "code",
   "execution_count": 109,
   "metadata": {},
   "outputs": [
    {
     "name": "stdout",
     "output_type": "stream",
     "text": [
      "coin tossed..heads(h) or tails(t) : t\n",
      "SORRY you lost the toss its : HEADS\n"
     ]
    }
   ],
   "source": [
    "import random as r\n",
    "\n",
    "a = int(r.randint(1,2))\n",
    "\n",
    "if a == 1:\n",
    "    A = 'HEADS'\n",
    "else:\n",
    "    A = 'TAILS'\n",
    "    \n",
    "b = input('coin tossed..heads(h) or tails(t) : ')\n",
    "\n",
    "if b == 'h':\n",
    "    B = 'HEADS'\n",
    "else:\n",
    "    B = 'TAILS'\n",
    "    \n",
    "    \n",
    "if A == B:    \n",
    "    print('CONGRATS you won the toss its :', A)\n",
    "else:    \n",
    "    print('SORRY you lost the toss its :', A)\n",
    "\n",
    "\n",
    "\n",
    "\n"
   ]
  },
  {
   "cell_type": "code",
   "execution_count": null,
   "metadata": {},
   "outputs": [],
   "source": []
  },
  {
   "cell_type": "code",
   "execution_count": null,
   "metadata": {},
   "outputs": [],
   "source": []
  },
  {
   "cell_type": "code",
   "execution_count": null,
   "metadata": {},
   "outputs": [],
   "source": []
  }
 ],
 "metadata": {
  "kernelspec": {
   "display_name": "Python 3",
   "language": "python",
   "name": "python3"
  },
  "language_info": {
   "codemirror_mode": {
    "name": "ipython",
    "version": 3
   },
   "file_extension": ".py",
   "mimetype": "text/x-python",
   "name": "python",
   "nbconvert_exporter": "python",
   "pygments_lexer": "ipython3",
   "version": "3.6.5"
  }
 },
 "nbformat": 4,
 "nbformat_minor": 2
}
