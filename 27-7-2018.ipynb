{
 "cells": [
  {
   "cell_type": "code",
   "execution_count": 8,
   "metadata": {},
   "outputs": [
    {
     "name": "stdout",
     "output_type": "stream",
     "text": [
      "enter your height in meters1.75\n",
      "enter your weight in kgs200\n",
      "the value of BMI is: 65.31\n",
      "you are in dangerous zone its time for run\n"
     ]
    }
   ],
   "source": [
    "# BMI IN DIFFERENT STAGES \n",
    "a=float(input('enter your height in meters'))\n",
    "b=float(input('enter your weight in kgs'))\n",
    "c=(b/a**2)\n",
    "print('the value of BMI is:',round(c,2))\n",
    "if c>=17.5 and c<=18.5:\n",
    "    print('you are under weight')\n",
    "elif c>18.5 and c<=25:\n",
    "    print('you are normal weight')\n",
    "elif c>25 and c<=30:\n",
    "    print('you are over weigght')\n",
    "elif c>30 and c<=35:\n",
    "    print('you are in obese class I')\n",
    "elif c>35 and c<=40:\n",
    "    print('you are in obese class II')\n",
    "elif c>40 and c<=45:\n",
    "    print('you are in obese class III')\n",
    "else :\n",
    "    print('you are in dangerous zone its time for run')"
   ]
  },
  {
   "cell_type": "code",
   "execution_count": 2,
   "metadata": {},
   "outputs": [
    {
     "name": "stdout",
     "output_type": "stream",
     "text": [
      "1\n",
      "2\n",
      "3\n",
      "4\n",
      "5\n",
      "6\n",
      "7\n",
      "8\n",
      "9\n",
      "10\n"
     ]
    }
   ],
   "source": [
    "#looping statement \n",
    "i=1\n",
    "while i<=10:\n",
    "    print(i)\n",
    "    i+=1"
   ]
  },
  {
   "cell_type": "code",
   "execution_count": 4,
   "metadata": {},
   "outputs": [
    {
     "name": "stdout",
     "output_type": "stream",
     "text": [
      "enter a number5\n",
      "5 * 1 = 5\n",
      "5 * 2 = 10\n",
      "5 * 3 = 15\n",
      "5 * 4 = 20\n",
      "5 * 5 = 25\n",
      "5 * 6 = 30\n",
      "5 * 7 = 35\n",
      "5 * 8 = 40\n",
      "5 * 9 = 45\n",
      "5 * 10 = 50\n",
      "5 * 11 = 55\n",
      "5 * 12 = 60\n",
      "5 * 13 = 65\n",
      "5 * 14 = 70\n",
      "5 * 15 = 75\n",
      "5 * 16 = 80\n",
      "5 * 17 = 85\n",
      "5 * 18 = 90\n",
      "5 * 19 = 95\n",
      "5 * 20 = 100\n"
     ]
    }
   ],
   "source": [
    "#multiplication table\n",
    "n=int(input('enter a number'))\n",
    "i=1\n",
    "while i<=20:\n",
    "    print(n,'*',i,'=',(n*i))\n",
    "    i+=1\n",
    "    \n",
    "\n"
   ]
  },
  {
   "cell_type": "code",
   "execution_count": 34,
   "metadata": {},
   "outputs": [
    {
     "name": "stdout",
     "output_type": "stream",
     "text": [
      "enter a number7\n",
      "prime\n"
     ]
    }
   ],
   "source": [
    "num=int(input('enter a number'))\n",
    "i=1\n",
    "factorcount=0\n",
    "while i<=num:\n",
    "    if num%i==0:\n",
    "        factorcount+=1\n",
    "    i+=1\n",
    "if factorcount==2:\n",
    "    print('prime')\n",
    "else:\n",
    "    print('not prime')"
   ]
  },
  {
   "cell_type": "code",
   "execution_count": 33,
   "metadata": {},
   "outputs": [
    {
     "name": "stdout",
     "output_type": "stream",
     "text": [
      "enter a number58\n",
      "not prime\n"
     ]
    }
   ],
   "source": [
    "num=int(input('enter a number'))\n",
    "i=1\n",
    "factorcount=0\n",
    "while i<=num:\n",
    "    if num%i==0:\n",
    "        factorcount+=1\n",
    "    i+=1\n",
    "if factorcount==2:\n",
    "    print('prime')\n",
    "else:\n",
    "    print('not prime')"
   ]
  },
  {
   "cell_type": "code",
   "execution_count": 41,
   "metadata": {},
   "outputs": [
    {
     "name": "stdout",
     "output_type": "stream",
     "text": [
      "enter a number123\n",
      "not a armstrong number\n"
     ]
    }
   ],
   "source": [
    "num=int(input('enter a number'))\n",
    "num1=num\n",
    "s=0\n",
    "while num>0:\n",
    "    r=num%10\n",
    "    s+=(r**3)\n",
    "    num=num//10\n",
    "if s==num1:\n",
    "    print('armstrong number')\n",
    "else:\n",
    "    print('not a armstrong number')\n",
    "    "
   ]
  },
  {
   "cell_type": "code",
   "execution_count": 1,
   "metadata": {},
   "outputs": [
    {
     "name": "stdout",
     "output_type": "stream",
     "text": [
      "enter a number1254\n",
      "not a palindrome number\n"
     ]
    }
   ],
   "source": [
    "num=int(input('enter a number'))\n",
    "num1=num\n",
    "s=0\n",
    "while num>0:\n",
    "    r=num%10\n",
    "    s=s*10+r\n",
    "    num=num//10\n",
    "if s==num1:\n",
    "    print('palindrome number')\n",
    "else:\n",
    "    print('not a palindrome number')"
   ]
  },
  {
   "cell_type": "code",
   "execution_count": null,
   "metadata": {},
   "outputs": [],
   "source": [
    "def max(num1,num2):\n",
    "    if(num1>num2):\n",
    "        result = num1\n",
    "    else:\n",
    "        result = num2\n",
    "    return result"
   ]
  },
  {
   "cell_type": "code",
   "execution_count": 3,
   "metadata": {},
   "outputs": [
    {
     "name": "stdout",
     "output_type": "stream",
     "text": [
      "enter a first number56\n",
      "enter a second number86\n",
      "maximum value is 86\n"
     ]
    }
   ],
   "source": [
    "num1=int(input('enter a first number'))\n",
    "num2=int(input('enter a second number'))\n",
    "y=max(num1,num2)\n",
    "print('maximum value is',y)"
   ]
  },
  {
   "cell_type": "code",
   "execution_count": 2,
   "metadata": {},
   "outputs": [
    {
     "data": {
      "text/plain": [
       "False"
      ]
     },
     "execution_count": 2,
     "metadata": {},
     "output_type": "execute_result"
    }
   ],
   "source": [
    "def iseven(num):\n",
    "    if num%2==0:\n",
    "        return True\n",
    "    else:\n",
    "        return False\n",
    "    \n",
    "iseven(47)"
   ]
  },
  {
   "cell_type": "code",
   "execution_count": 5,
   "metadata": {},
   "outputs": [
    {
     "name": "stdout",
     "output_type": "stream",
     "text": [
      "enter a number23\n",
      "given number is odd\n"
     ]
    }
   ],
   "source": [
    "n=int(input('enter a number'))\n",
    "if iseven(n):\n",
    "    print('given number is even')\n",
    "else:\n",
    "    print('given number is odd')"
   ]
  },
  {
   "cell_type": "code",
   "execution_count": null,
   "metadata": {},
   "outputs": [],
   "source": []
  }
 ],
 "metadata": {
  "kernelspec": {
   "display_name": "Python 3",
   "language": "python",
   "name": "python3"
  },
  "language_info": {
   "codemirror_mode": {
    "name": "ipython",
    "version": 3
   },
   "file_extension": ".py",
   "mimetype": "text/x-python",
   "name": "python",
   "nbconvert_exporter": "python",
   "pygments_lexer": "ipython3",
   "version": "3.6.5"
  }
 },
 "nbformat": 4,
 "nbformat_minor": 2
}
